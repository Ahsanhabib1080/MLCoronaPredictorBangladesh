{
  "nbformat": 4,
  "nbformat_minor": 0,
  "metadata": {
    "colab": {
      "name": "BangladeshCovid19Predictor.ipynb",
      "provenance": [],
      "collapsed_sections": [],
      "authorship_tag": "ABX9TyNsggyeLHEYYkE8EuRry91E",
      "include_colab_link": true
    },
    "kernelspec": {
      "name": "python3",
      "display_name": "Python 3"
    },
    "language_info": {
      "name": "python"
    }
  },
  "cells": [
    {
      "cell_type": "markdown",
      "metadata": {
        "id": "view-in-github",
        "colab_type": "text"
      },
      "source": [
        "<a href=\"https://colab.research.google.com/github/Ahsanhabib1080/MLCoronaPredictorBangladesh/blob/main/BangladeshCovid19Predictor.ipynb\" target=\"_parent\"><img src=\"https://colab.research.google.com/assets/colab-badge.svg\" alt=\"Open In Colab\"/></a>"
      ]
    },
    {
      "cell_type": "markdown",
      "metadata": {
        "id": "CyOMFF6IYwBS"
      },
      "source": [
        "# **All The Imports**"
      ]
    },
    {
      "cell_type": "code",
      "metadata": {
        "id": "8CwO-16WYu-R"
      },
      "source": [
        "from google.colab import drive\n",
        "import matplotlib.pyplot as plt\n",
        "import numpy as np\n",
        "import pandas as pd\n",
        "from sklearn import linear_model\n",
        "from sklearn.preprocessing import PolynomialFeatures"
      ],
      "execution_count": 2,
      "outputs": []
    },
    {
      "cell_type": "markdown",
      "metadata": {
        "id": "h8V_CN6qZOG6"
      },
      "source": [
        "# **Mount GDrive**"
      ]
    },
    {
      "cell_type": "code",
      "metadata": {
        "colab": {
          "base_uri": "https://localhost:8080/"
        },
        "id": "IVy_xZ6KZVzB",
        "outputId": "94ee131c-1512-4e14-a9d8-d92f8b86c13d"
      },
      "source": [
        "drive.mount('/content/gdrive/')\n"
      ],
      "execution_count": 12,
      "outputs": [
        {
          "output_type": "stream",
          "text": [
            "Drive already mounted at /content/gdrive/; to attempt to forcibly remount, call drive.mount(\"/content/gdrive/\", force_remount=True).\n"
          ],
          "name": "stdout"
        }
      ]
    },
    {
      "cell_type": "markdown",
      "metadata": {
        "id": "U173i0KKbEKy"
      },
      "source": [
        "# **DATA LOADING**"
      ]
    },
    {
      "cell_type": "code",
      "metadata": {
        "colab": {
          "base_uri": "https://localhost:8080/"
        },
        "id": "r7dR418UbL_5",
        "outputId": "d76c4053-2dd9-42ac-f658-3e59413a5c74"
      },
      "source": [
        "data = pd.read_csv('gdrive/My Drive/Colab Notebooks/Covid19_data.csv', sep=',')\n",
        "data = data[['Listofcase', 'total_cases']]\n",
        "# We're specifying which column we're talking about.\n",
        "print('-' * 10);print('Head');print('-' * 10);\n",
        "print(data.head())"
      ],
      "execution_count": 13,
      "outputs": [
        {
          "output_type": "stream",
          "text": [
            "----------\n",
            "Head\n",
            "----------\n",
            "   Listofcase  total_cases\n",
            "0           1            3\n",
            "1           2            3\n",
            "2           3            3\n",
            "3           4            3\n",
            "4           5            3\n"
          ],
          "name": "stdout"
        }
      ]
    },
    {
      "cell_type": "markdown",
      "metadata": {
        "id": "YLRo4NXHbdLi"
      },
      "source": [
        "# **DATA PREPARING**"
      ]
    },
    {
      "cell_type": "code",
      "metadata": {
        "colab": {
          "base_uri": "https://localhost:8080/",
          "height": 327
        },
        "id": "Q7tYaaY-bj72",
        "outputId": "d71f479e-7990-43fd-db9f-6240697d80bd"
      },
      "source": [
        "print('-' * 10);print('PREPARING DATA');print('-' * 10)\n",
        "# Converting column values to numpy arrays.\n",
        "x = np.array(data['Listofcase']).reshape(-1, 1)\n",
        "y = np.array(data['total_cases']).reshape(-1, 1)\n",
        "plt.plot(y, '-r')\n",
        "polyfeature = PolynomialFeatures(degree=6)\n",
        "# it will take x and will multiply it by degree.\n",
        "x = polyfeature.fit_transform(x)\n",
        "# fit_transform will add more columns to it."
      ],
      "execution_count": 17,
      "outputs": [
        {
          "output_type": "stream",
          "text": [
            "----------\n",
            "PREPARING DATA\n",
            "----------\n"
          ],
          "name": "stdout"
        },
        {
          "output_type": "display_data",
          "data": {
            "image/png": "[encoded data removed]",
            "text/plain": [
              "<Figure size 432x288 with 1 Axes>"
            ]
          },
          "metadata": {
            "tags": [],
            "needs_background": "light"
          }
        }
      ]
    },
    {
      "cell_type": "markdown",
      "metadata": {
        "id": "RokiQ74JbuCJ"
      },
      "source": [
        "# **DATA TRAINING**"
      ]
    },
    {
      "cell_type": "code",
      "metadata": {
        "colab": {
          "base_uri": "https://localhost:8080/"
        },
        "id": "bGunJNKob5dv",
        "outputId": "cb0921ba-53fa-4e8a-b917-812bde7559aa"
      },
      "source": [
        "print('-' * 10);print('TRAINING DATA');print('-' * 10)\n",
        "# Creating Linear Model\n",
        "model = linear_model.LinearRegression()\n",
        "model.fit(x, y)\n",
        "accuracy = model.score(x, y)\n",
        "print(f'Accuracy: {round(accuracy * 100, 3)} %')\n",
        "y0 = model.predict(x)"
      ],
      "execution_count": 18,
      "outputs": [
        {
          "output_type": "stream",
          "text": [
            "----------\n",
            "TRAINING DATA\n",
            "----------\n",
            "Accuracy: 99.491 %\n"
          ],
          "name": "stdout"
        }
      ]
    },
    {
      "cell_type": "markdown",
      "metadata": {
        "id": "003p1FUBcANJ"
      },
      "source": [
        "# **DATA PREDICTION**"
      ]
    },
    {
      "cell_type": "code",
      "metadata": {
        "colab": {
          "base_uri": "https://localhost:8080/",
          "height": 448
        },
        "id": "ESlJRWZzcE7a",
        "outputId": "236e4b37-83c6-4ca7-a4d6-2b27e3c1f084"
      },
      "source": [
        "# ----PRINTING----\n",
        "print('-' * 10);\n",
        "print('PREDICTING DATA');\n",
        "print('-' * 10)\n",
        "print('-' * 10);\n",
        "print(\"DATASET AVAILABLE TILL August 5'th \\nTotal 516 Days of Data Available\");\n",
        "print('-' * 10)\n",
        "# ----PRINTING----\n",
        "days =  int(input(\"How many days after you want to predict ? :\"))  # added 1+ for better Accurate Predictions\n",
        "print(f'Prediction - Total Cases after {516 + days} days:', end='')\n",
        "print(round(int(model.predict(polyfeature.fit_transform([[516 + days]]))), 2),'Total Cases')\n",
        "# x1 is creating a list of total cases range and reshape it.\n",
        "x1 = np.array(list(range(1, 516 + days))).reshape(-1, 1)\n",
        "# y1 is predicting and saving the data according to x1.\n",
        "y1 = model.predict(polyfeature.fit_transform(x1))\n",
        "# ploting the data to the graph.\n",
        "plt.plot(y1, 'c')\n",
        "plt.plot(y0, '--b')\n",
        "plt.xlabel('Days')\n",
        "plt.ylabel('Total Cases')\n",
        "plt.title(f'Predicting Bangladesh CoronaVirus Total Cases after {516 + (days)} days')\n",
        "plt.show()"
      ],
      "execution_count": 21,
      "outputs": [
        {
          "output_type": "stream",
          "text": [
            "----------\n",
            "PREDICTING DATA\n",
            "----------\n",
            "----------\n",
            "DATASET AVAILABLE TILL August 5'th \n",
            "Total 516 Days of Data Available\n",
            "----------\n",
            "How many days after you want to predict ? :1\n",
            "Prediction - Total Cases after 517 days:1305045 Total Cases\n"
          ],
          "name": "stdout"
        },
        {
          "output_type": "display_data",
          "data": {
            "image/png": "[encoded data removed]",
            "text/plain": [
              "<Figure size 432x288 with 1 Axes>"
            ]
          },
          "metadata": {
            "tags": [],
            "needs_background": "light"
          }
        }
      ]
    }
  ]
}
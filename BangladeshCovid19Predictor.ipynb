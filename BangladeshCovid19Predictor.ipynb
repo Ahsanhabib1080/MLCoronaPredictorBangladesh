{
  "nbformat": 4,
  "nbformat_minor": 0,
  "metadata": {
    "colab": {
      "name": "BangladeshCovid19Predictor.ipynb",
      "provenance": [],
      "collapsed_sections": [],
      "include_colab_link": true
    },
    "kernelspec": {
      "name": "python3",
      "display_name": "Python 3"
    },
    "language_info": {
      "name": "python"
    }
  },
  "cells": [
    {
      "cell_type": "markdown",
      "metadata": {
        "id": "view-in-github",
        "colab_type": "text"
      },
      "source": [
        "<a href=\"https://colab.research.google.com/github/Ahsanhabib1080/MLCoronaPredictorBangladesh/blob/main/BangladeshCovid19Predictor.ipynb\" target=\"_parent\"><img src=\"https://colab.research.google.com/assets/colab-badge.svg\" alt=\"Open In Colab\"/></a>"
      ]
    },
    {
      "cell_type": "markdown",
      "metadata": {
        "id": "CyOMFF6IYwBS"
      },
      "source": [
        "# **All The Imports**"
      ]
    },
    {
      "cell_type": "code",
      "metadata": {
        "id": "8CwO-16WYu-R"
      },
      "source": [
        "from google.colab import drive\n",
        "import matplotlib.pyplot as plt\n",
        "import numpy as np\n",
        "import pandas as pd\n",
        "from sklearn import linear_model\n",
        "from sklearn.preprocessing import PolynomialFeatures"
      ],
      "execution_count": 1,
      "outputs": []
    },
    {
      "cell_type": "markdown",
      "metadata": {
        "id": "h8V_CN6qZOG6"
      },
      "source": [
        "# **Mount GDrive**"
      ]
    },
    {
      "cell_type": "code",
      "metadata": {
        "colab": {
          "base_uri": "https://localhost:8080/",
          "height": 0
        },
        "id": "IVy_xZ6KZVzB",
        "outputId": "51778f04-6feb-437c-f244-9d058e4da8dd"
      },
      "source": [
        "drive.mount('/content/gdrive/')\n"
      ],
      "execution_count": 2,
      "outputs": [
        {
          "output_type": "stream",
          "text": [
            "Mounted at /content/gdrive/\n"
          ],
          "name": "stdout"
        }
      ]
    },
    {
      "cell_type": "markdown",
      "metadata": {
        "id": "U173i0KKbEKy"
      },
      "source": [
        "# **DATA LOADING**"
      ]
    },
    {
      "cell_type": "code",
      "metadata": {
        "colab": {
          "base_uri": "https://localhost:8080/",
          "height": 0
        },
        "id": "r7dR418UbL_5",
        "outputId": "9e838fb2-21e5-4125-fd23-223cf8944664"
      },
      "source": [
        "data = pd.read_csv('gdrive/My Drive/Colab Notebooks/Covid19_data.csv', sep=',')\n",
        "data = data[['Listofcase', 'total_cases']]\n",
        "# We're specifying which column we're talking about.\n",
        "print('-' * 10);print('Head');print('-' * 10);\n",
        "print(data.head(10))"
      ],
      "execution_count": 7,
      "outputs": [
        {
          "output_type": "stream",
          "text": [
            "----------\n",
            "Head\n",
            "----------\n",
            "   Listofcase  total_cases\n",
            "0           1            3\n",
            "1           2            3\n",
            "2           3            3\n",
            "3           4            3\n",
            "4           5            3\n",
            "5           6            3\n",
            "6           7            3\n",
            "7           8            5\n",
            "8           9            8\n",
            "9          10           10\n"
          ],
          "name": "stdout"
        }
      ]
    },
    {
      "cell_type": "markdown",
      "metadata": {
        "id": "YLRo4NXHbdLi"
      },
      "source": [
        "# **DATA PREPARING**"
      ]
    },
    {
      "cell_type": "code",
      "metadata": {
        "colab": {
          "base_uri": "https://localhost:8080/",
          "height": 327
        },
        "id": "Q7tYaaY-bj72",
        "outputId": "4f560c59-0b72-4a09-ca83-63d2ba3cb83b"
      },
      "source": [
        "print('-' * 10);print('PREPARING DATA');print('-' * 10)\n",
        "# Converting column values to numpy arrays.\n",
        "x = np.array(data['Listofcase']).reshape(-1, 1)\n",
        "y = np.array(data['total_cases']).reshape(-1, 1)\n",
        "plt.plot(y, '-r')\n",
        "polyfeature = PolynomialFeatures(degree=6)\n",
        "# it will take x and will multiply it by degree.\n",
        "x = polyfeature.fit_transform(x)\n",
        "# fit_transform will add more columns to it."
      ],
      "execution_count": 4,
      "outputs": [
        {
          "output_type": "stream",
          "text": [
            "----------\n",
            "PREPARING DATA\n",
            "----------\n"
          ],
          "name": "stdout"
        },
        {
          "output_type": "display_data",
          "data": {
            "image/png": "[encoded data removed]",
            "text/plain": [
              "<Figure size 432x288 with 1 Axes>"
            ]
          },
          "metadata": {
            "needs_background": "light"
          }
        }
      ]
    },
    {
      "cell_type": "markdown",
      "metadata": {
        "id": "RokiQ74JbuCJ"
      },
      "source": [
        "# **DATA TRAINING**"
      ]
    },
    {
      "cell_type": "code",
      "metadata": {
        "colab": {
          "base_uri": "https://localhost:8080/",
          "height": 0
        },
        "id": "bGunJNKob5dv",
        "outputId": "e86f3282-e28b-43cb-9593-33368dc59934"
      },
      "source": [
        "print('-' * 10);print('TRAINING DATA');print('-' * 10)\n",
        "# Creating Linear Model\n",
        "model = linear_model.LinearRegression()\n",
        "model.fit(x, y)\n",
        "accuracy = model.score(x, y)\n",
        "print(f'Accuracy: {round(accuracy * 100, 3)} %')\n",
        "y0 = model.predict(x)"
      ],
      "execution_count": 5,
      "outputs": [
        {
          "output_type": "stream",
          "text": [
            "----------\n",
            "TRAINING DATA\n",
            "----------\n",
            "Accuracy: 99.491 %\n"
          ],
          "name": "stdout"
        }
      ]
    },
    {
      "cell_type": "markdown",
      "metadata": {
        "id": "003p1FUBcANJ"
      },
      "source": [
        "# **DATA PREDICTION**"
      ]
    },
    {
      "cell_type": "code",
      "metadata": {
        "colab": {
          "base_uri": "https://localhost:8080/",
          "height": 478
        },
        "id": "ESlJRWZzcE7a",
        "outputId": "c37acecc-75af-4927-83ab-0432736f50a6"
      },
      "source": [
        "# ----PRINTING----\n",
        "print('-' * 10);\n",
        "print('PREDICTING DATA');\n",
        "print('-' * 10)\n",
        "print('-' * 10);\n",
        "print(\"DATASET AVAILABLE TILL August 5'th \\nTotal 516 Days of Data Available\");\n",
        "print('-' * 10)\n",
        "# ----PRINTING----\n",
        "days =  int(input(\"How many days after you want to predict ? :\"))  # added 1+ for better Accurate Predictions\n",
        "print(f'Prediction - Total Cases after {516 + days} days:', end='')\n",
        "print(round(int(model.predict(polyfeature.fit_transform([[516 + days]]))), 2),'Total Cases')\n",
        "# x1 is creating a list of total cases range and reshape it.\n",
        "x1 = np.array(list(range(1, 516 + days))).reshape(-1, 1)\n",
        "# y1 is predicting and saving the data according to x1.\n",
        "y1 = model.predict(polyfeature.fit_transform(x1))\n",
        "# ploting the data to the graph.\n",
        "plt.plot(y1, 'c')\n",
        "plt.plot(y0, '--b')\n",
        "plt.xlabel('Days')\n",
        "plt.ylabel('Total Cases')\n",
        "plt.title(f'Predicting Bangladesh CoronaVirus Total Cases after {516 + (days)} days\\nFrom 3rd March 2020\\n')\n",
        "plt.show()"
      ],
      "execution_count": 9,
      "outputs": [
        {
          "output_type": "stream",
          "text": [
            "----------\n",
            "PREDICTING DATA\n",
            "----------\n",
            "----------\n",
            "DATASET AVAILABLE TILL August 5'th \n",
            "Total 516 Days of Data Available\n",
            "----------\n",
            "How many days after you want to predict ? :1\n",
            "Prediction - Total Cases after 517 days:1305045 Total Cases\n"
          ],
          "name": "stdout"
        },
        {
          "output_type": "display_data",
          "data": {
            "image/png": "[encoded data removed]",
            "text/plain": [
              "<Figure size 432x288 with 1 Axes>"
            ]
          },
          "metadata": {
            "needs_background": "light"
          }
        }
      ]
    }
  ]
}
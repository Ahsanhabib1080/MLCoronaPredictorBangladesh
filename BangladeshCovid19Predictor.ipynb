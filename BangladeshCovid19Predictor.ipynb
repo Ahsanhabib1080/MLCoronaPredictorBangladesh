{
  "nbformat": 4,
  "nbformat_minor": 0,
  "metadata": {
    "colab": {
      "name": "BangladeshCovid19Predictor.ipynb",
      "provenance": [],
      "collapsed_sections": [],
      "authorship_tag": "ABX9TyNTCjVsSkajxQKNimXGBlr3",
      "include_colab_link": true
    },
    "kernelspec": {
      "name": "python3",
      "display_name": "Python 3"
    },
    "language_info": {
      "name": "python"
    }
  },
  "cells": [
    {
      "cell_type": "markdown",
      "metadata": {
        "id": "view-in-github",
        "colab_type": "text"
      },
      "source": [
        "<a href=\"https://colab.research.google.com/github/Ahsanhabib1080/MLCoronaPredictorBangladesh/blob/main/BangladeshCovid19Predictor.ipynb\" target=\"_parent\"><img src=\"https://colab.research.google.com/assets/colab-badge.svg\" alt=\"Open In Colab\"/></a>"
      ]
    },
    {
      "cell_type": "markdown",
      "metadata": {
        "id": "CyOMFF6IYwBS"
      },
      "source": [
        "# **All The Imports**"
      ]
    },
    {
      "cell_type": "code",
      "metadata": {
        "id": "8CwO-16WYu-R"
      },
      "source": [
        "from google.colab import drive\n",
        "import matplotlib.pyplot as plt\n",
        "import numpy as np\n",
        "import pandas as pd\n",
        "from sklearn import linear_model\n",
        "from sklearn.preprocessing import PolynomialFeatures"
      ],
      "execution_count": 5,
      "outputs": []
    },
    {
      "cell_type": "markdown",
      "metadata": {
        "id": "h8V_CN6qZOG6"
      },
      "source": [
        "# **Mount GDrive**"
      ]
    },
    {
      "cell_type": "code",
      "metadata": {
        "colab": {
          "base_uri": "https://localhost:8080/"
        },
        "id": "IVy_xZ6KZVzB",
        "outputId": "f67be230-4db7-49ff-9ca8-687e0760ddcb"
      },
      "source": [
        "drive.mount('/content/gdrive/')\n"
      ],
      "execution_count": 3,
      "outputs": [
        {
          "output_type": "stream",
          "text": [
            "Mounted at /content/gdrive/\n"
          ],
          "name": "stdout"
        }
      ]
    },
    {
      "cell_type": "markdown",
      "metadata": {
        "id": "U173i0KKbEKy"
      },
      "source": [
        "# **DATA LOADING**"
      ]
    },
    {
      "cell_type": "code",
      "metadata": {
        "colab": {
          "base_uri": "https://localhost:8080/"
        },
        "id": "r7dR418UbL_5",
        "outputId": "8120824e-c8e8-440e-fb12-c5078e6b4d46"
      },
      "source": [
        "data = pd.read_csv('gdrive/My Drive/Colab Notebooks/Covid19_data.csv', sep=',')\n",
        "data = data[['Listofcases', 'total_cases']]\n",
        "# We're specifying which column we're talking about.\n",
        "print('-' * 10);print('Head');print('-' * 10);\n",
        "print(data.head())"
      ],
      "execution_count": 4,
      "outputs": [
        {
          "output_type": "stream",
          "text": [
            "----------\n",
            "Head\n",
            "----------\n",
            "   Listofcases  total_cases\n",
            "0            1            0\n",
            "1            2            0\n",
            "2            3            0\n",
            "3            4            0\n",
            "4            5            0\n"
          ],
          "name": "stdout"
        }
      ]
    },
    {
      "cell_type": "markdown",
      "metadata": {
        "id": "YLRo4NXHbdLi"
      },
      "source": [
        "# **DATA PREPARING**"
      ]
    },
    {
      "cell_type": "code",
      "metadata": {
        "colab": {
          "base_uri": "https://localhost:8080/",
          "height": 316
        },
        "id": "Q7tYaaY-bj72",
        "outputId": "807833e5-c364-4c8c-c2d2-1e338a10bd1a"
      },
      "source": [
        "print('-' * 10);print('PREPARING DATA');print('-' * 10)\n",
        "# Converting column values to numpy arrays.\n",
        "x = np.array(data['Listofcases']).reshape(-1, 1)\n",
        "y = np.array(data['total_cases']).reshape(-1, 1)\n",
        "plt.plot(y, '-r')\n",
        "polyfeature = PolynomialFeatures(degree=7)\n",
        "# it will take x and will multiply it by degree.\n",
        "x = polyfeature.fit_transform(x)\n",
        "# fit_transform will add more columns to it."
      ],
      "execution_count": 7,
      "outputs": [
        {
          "output_type": "stream",
          "text": [
            "----------\n",
            "PREPARING DATA\n",
            "----------\n"
          ],
          "name": "stdout"
        },
        {
          "output_type": "display_data",
          "data": {
            "image/png": "[encoded data removed]",
            "text/plain": [
              "<Figure size 432x288 with 1 Axes>"
            ]
          },
          "metadata": {
            "tags": [],
            "needs_background": "light"
          }
        }
      ]
    },
    {
      "cell_type": "markdown",
      "metadata": {
        "id": "RokiQ74JbuCJ"
      },
      "source": [
        "# **DATA TRAINING**"
      ]
    },
    {
      "cell_type": "code",
      "metadata": {
        "colab": {
          "base_uri": "https://localhost:8080/"
        },
        "id": "bGunJNKob5dv",
        "outputId": "aa13ca6b-5838-4299-e94b-5a81e55931d3"
      },
      "source": [
        "print('-' * 10);print('TRAINING DATA');print('-' * 10)\n",
        "# Creating Linear Model\n",
        "model = linear_model.LinearRegression()\n",
        "model.fit(x, y)\n",
        "accuracy = model.score(x, y)\n",
        "print(f'Accuracy: {round(accuracy * 100, 3)} %')\n",
        "y0 = model.predict(x)"
      ],
      "execution_count": 8,
      "outputs": [
        {
          "output_type": "stream",
          "text": [
            "----------\n",
            "TRAINING DATA\n",
            "----------\n",
            "Accuracy: 99.929 %\n"
          ],
          "name": "stdout"
        }
      ]
    },
    {
      "cell_type": "markdown",
      "metadata": {
        "id": "003p1FUBcANJ"
      },
      "source": [
        "# **DATA PREDICTION**"
      ]
    },
    {
      "cell_type": "code",
      "metadata": {
        "colab": {
          "base_uri": "https://localhost:8080/",
          "height": 448
        },
        "id": "ESlJRWZzcE7a",
        "outputId": "59322dad-2eac-4e59-f418-d5dc89f986f0"
      },
      "source": [
        "# ----PRINTING----\n",
        "print('-' * 10);\n",
        "print('PREDICTING DATA');\n",
        "print('-' * 10)\n",
        "print('-' * 10);\n",
        "print(\"DATASET AVAILABLE TILL APRILL 5'th\\nTotal 399 Days of Data Available\");\n",
        "print('-' * 10)\n",
        "# ----PRINTING----\n",
        "days =  int(input(\"How many days after you want to predict ? :\"))  # added 1+ for better Accurate Predictions\n",
        "print(f'Prediction - Total Cases after {399 + days} days:', end='')\n",
        "print(round(int(model.predict(polyfeature.fit_transform([[399 + days]]))), 2),'Total Cases')\n",
        "# x1 is creating a list of total cases range and reshape it.\n",
        "x1 = np.array(list(range(1, 399 + days))).reshape(-1, 1)\n",
        "# y1 is predicting and saving the data according to x1.\n",
        "y1 = model.predict(polyfeature.fit_transform(x1))\n",
        "# ploting the data to the graph.\n",
        "plt.plot(y1, 'c')\n",
        "plt.plot(y0, '--b')\n",
        "plt.xlabel('Days')\n",
        "plt.ylabel('Total Cases')\n",
        "plt.title(f'Predicting Bangladesh CoronaVirus Total Cases after {399 + (days)} days')\n",
        "plt.show()"
      ],
      "execution_count": 9,
      "outputs": [
        {
          "output_type": "stream",
          "text": [
            "----------\n",
            "PREDICTING DATA\n",
            "----------\n",
            "----------\n",
            "DATASET AVAILABLE TILL APRILL 5'th\n",
            "Total 399 Days of Data Available\n",
            "----------\n",
            "How many days after you want to predict ? :7\n",
            "Prediction - Total Cases after 406 days:690365 Total Cases\n"
          ],
          "name": "stdout"
        },
        {
          "output_type": "display_data",
          "data": {
            "image/png": "[encoded data removed]",
            "text/plain": [
              "<Figure size 432x288 with 1 Axes>"
            ]
          },
          "metadata": {
            "tags": [],
            "needs_background": "light"
          }
        }
      ]
    }
  ]
}